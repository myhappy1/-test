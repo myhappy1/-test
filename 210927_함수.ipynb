{
  "nbformat": 4,
  "nbformat_minor": 0,
  "metadata": {
    "colab": {
      "name": "210927-함수.ipynb",
      "provenance": [],
      "authorship_tag": "ABX9TyMFCXG9VBJX2DhOmfm0APyl",
      "include_colab_link": true
    },
    "kernelspec": {
      "name": "python3",
      "display_name": "Python 3"
    },
    "language_info": {
      "name": "python"
    }
  },
  "cells": [
    {
      "cell_type": "markdown",
      "metadata": {
        "id": "view-in-github",
        "colab_type": "text"
      },
      "source": [
        "<a href=\"https://colab.research.google.com/github/myhappy1/-test/blob/main/210927_%ED%95%A8%EC%88%98.ipynb\" target=\"_parent\"><img src=\"https://colab.research.google.com/assets/colab-badge.svg\" alt=\"Open In Colab\"/></a>"
      ]
    },
    {
      "cell_type": "markdown",
      "metadata": {
        "id": "IBoXIJWmiiLM"
      },
      "source": [
        "## **학습목표**\n",
        "1. 함수의 이해\n",
        "2. 함수 구현 및 사용 숙지\n"
      ]
    },
    {
      "cell_type": "markdown",
      "metadata": {
        "id": "lQgQ_SvYimHD"
      },
      "source": [
        "##**함수?**\n",
        "- 예를 들어. range 함수\n",
        "> range() 정수를 입력 받으면, [0,정수]까지 이루어진 리스트를 생성\n",
        "- 함수는 주어진 입력(input)에 대해 어떤 기능을 수행한 후,출력(output)을 전달하는 역할\n",
        "\n",
        "- `내장함수(built - in function)`파이썬에서는 내부에서 구현된 함수"
      ]
    },
    {
      "cell_type": "code",
      "metadata": {
        "colab": {
          "base_uri": "https://localhost:8080/"
        },
        "id": "K48Fy4ykisAw",
        "outputId": "96525fbc-859a-4a0e-9a34-09e3c8918f56"
      },
      "source": [
        "a = list(range(10))\n",
        "print(a)\n",
        "\n",
        "l = len(a) #리스트 길이를 구하는 함수 \n",
        "print(l)\n",
        "\n",
        "plus = sum(a)\n",
        "print(plus)\n"
      ],
      "execution_count": 1,
      "outputs": [
        {
          "output_type": "stream",
          "name": "stdout",
          "text": [
            "[0, 1, 2, 3, 4, 5, 6, 7, 8, 9]\n",
            "10\n",
            "45\n"
          ]
        }
      ]
    },
    {
      "cell_type": "markdown",
      "metadata": {
        "id": "tjuyOZHriw77"
      },
      "source": [
        "## **함수의 정의**\n",
        "- def 라는 키워드를 사용 (definotion)\n",
        "- 매개변수(argument,paramenter) : 함수에 입력으로 전달되는 값\n",
        "\n",
        "- 함수의 내용 부분\n",
        " - 원하는 기능을 수행하는 내용\n",
        " - 완료된 값을 retrun하여 출력\n",
        "\n",
        "- 네이밍의 중요성: 어떤 기능을 하는 함수인지 이름으로 잘 나태내주어야함\n",
        "\n",
        " - a(X), student_grade(O)"
      ]
    },
    {
      "cell_type": "code",
      "metadata": {
        "colab": {
          "base_uri": "https://localhost:8080/"
        },
        "id": "RA3RPw9uizPF",
        "outputId": "ab570eb0-26e2-424e-c669-e05b4f4432d2"
      },
      "source": [
        "def add(a,b):\n",
        " n = a+b\n",
        " return n\n",
        "\n",
        "def minus(a,b):\n",
        "  return  a-b\n",
        "\n",
        "a = 1000\n",
        "b = 98\n",
        "\n",
        "def mul(a,b):\n",
        "  return a*b\n",
        "\n",
        "\n",
        "print(add(100,21))\n",
        "print(minus(a,b))\n",
        "print(mul(4,5))"
      ],
      "execution_count": 2,
      "outputs": [
        {
          "output_type": "stream",
          "name": "stdout",
          "text": [
            "121\n",
            "902\n",
            "20\n"
          ]
        }
      ]
    },
    {
      "cell_type": "markdown",
      "metadata": {
        "id": "vm9MUXpyi3D-"
      },
      "source": [
        "- Defult parameter(기본 인자)\n",
        " - 함수의 파라미터에 기본값 지정 가능\n",
        " - 만약에,파라미터를 명시하지 않을 경우 지정된 기본값으로 대체\n",
        "\n",
        "\n",
        "- `주의!` 디폴트 파라미터 뒤에 일반 파라미터가 위치할 수 없음\n",
        "> 틀린 예) def test(a,b=1,c) \\\n",
        "> 옳은 예) def test(a,b,c=1)"
      ]
    },
    {
      "cell_type": "code",
      "metadata": {
        "colab": {
          "base_uri": "https://localhost:8080/"
        },
        "id": "_QAlbnHWi3ZP",
        "outputId": "367dd642-482e-46aa-a8f5-9ff9a1556ae4"
      },
      "source": [
        "def add(a,b=2,c=3):\n",
        "  x = a+b+c\n",
        "  return x \n",
        "\n",
        "print(add(10,1,21))\n",
        "print(add(10))\n",
        "\n",
        "def test(a,b=2,c=3):\n",
        "  return a+b+c\n",
        "print(test(10))"
      ],
      "execution_count": 3,
      "outputs": [
        {
          "output_type": "stream",
          "name": "stdout",
          "text": [
            "32\n",
            "15\n",
            "15\n"
          ]
        }
      ]
    },
    {
      "cell_type": "code",
      "metadata": {
        "id": "0ktVeJKYi5F2"
      },
      "source": [
        ""
      ],
      "execution_count": null,
      "outputs": []
    }
  ]
}