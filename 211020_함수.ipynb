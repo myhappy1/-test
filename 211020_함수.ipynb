{
  "nbformat": 4,
  "nbformat_minor": 0,
  "metadata": {
    "colab": {
      "name": "211020_함수.ipynb",
      "provenance": [],
      "authorship_tag": "ABX9TyPZ81HIk6UsOH1ljZlIKedM",
      "include_colab_link": true
    },
    "kernelspec": {
      "name": "python3",
      "display_name": "Python 3"
    },
    "language_info": {
      "name": "python"
    }
  },
  "cells": [
    {
      "cell_type": "markdown",
      "metadata": {
        "id": "view-in-github",
        "colab_type": "text"
      },
      "source": [
        "<a href=\"https://colab.research.google.com/github/myhappy1/-test/blob/main/211020_%ED%95%A8%EC%88%98.ipynb\" target=\"_parent\"><img src=\"https://colab.research.google.com/assets/colab-badge.svg\" alt=\"Open In Colab\"/></a>"
      ]
    },
    {
      "cell_type": "code",
      "metadata": {
        "colab": {
          "base_uri": "https://localhost:8080/"
        },
        "id": "St_BoZf8vFu9",
        "outputId": "9177d2a8-1dec-4546-c4ab-74090e8df9e7"
      },
      "source": [
        "#주사위 굴리는 프로그램 만들기\n",
        "\n",
        "import random \n",
        "\n",
        "#n = random.randint(1,6) #1에서 6까지의 정수 중에서 하나를 뽑는다. \n",
        "#print(n)\n",
        "\n",
        "def game():\n",
        "  n = random.randint(0,2)\n",
        "  if n == 0:\n",
        "    print(\">컴퓨터:가위\")\n",
        "  elif n == 1:\n",
        "    print(\">컴퓨터:바위\")\n",
        "  else:\n",
        "    print(\">컴퓨터:보\")\n",
        "  return n \n",
        "#가위바위보 게임\n",
        "user =int(input(\"(0.가위, 1.바위, 2.보)중 하나를 입력하세요: \"))\n",
        "com1 = game()\n",
        "#com2 = game()\n",
        "#com3 = game()\n",
        "\n",
        "if com == user:\n",
        "  print(\"DRAW!\")\n",
        "elif com == 0 and user == 1:\n",
        "  print(\"WIN!\")\n",
        "elif com == 1 and user ==2:\n",
        "  print(\"WIN!\")\n",
        "elif com == 2 and user == 0:\n",
        "  print(\"WIN!\")\n",
        "else: \n",
        "  print(\"LOOSE!\")\n",
        "  \n"
      ],
      "execution_count": 40,
      "outputs": [
        {
          "output_type": "stream",
          "name": "stdout",
          "text": [
            "(0.가위, 1.바위, 2.보)중 하나를 입력하세요: 1\n",
            ">컴퓨터:보\n",
            "DRAW!\n"
          ]
        }
      ]
    },
    {
      "cell_type": "code",
      "metadata": {
        "id": "85dIlUp76TYO"
      },
      "source": [
        ""
      ],
      "execution_count": 40,
      "outputs": []
    },
    {
      "cell_type": "code",
      "metadata": {
        "id": "lXcpiGtf6Z8W"
      },
      "source": [
        ""
      ],
      "execution_count": 40,
      "outputs": []
    }
  ]
}