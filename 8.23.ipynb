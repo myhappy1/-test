{
  "nbformat": 4,
  "nbformat_minor": 0,
  "metadata": {
    "colab": {
      "name": "Untitled1.ipynb",
      "provenance": [],
      "authorship_tag": "ABX9TyPlrpNAr1UWno6k/7qDnfvM",
      "include_colab_link": true
    },
    "kernelspec": {
      "name": "python3",
      "display_name": "Python 3"
    },
    "language_info": {
      "name": "python"
    }
  },
  "cells": [
    {
      "cell_type": "markdown",
      "metadata": {
        "id": "view-in-github",
        "colab_type": "text"
      },
      "source": [
        "<a href=\"https://colab.research.google.com/github/myhappy1/-test/blob/main/8.23.ipynb\" target=\"_parent\"><img src=\"https://colab.research.google.com/assets/colab-badge.svg\" alt=\"Open In Colab\"/></a>"
      ]
    },
    {
      "cell_type": "markdown",
      "metadata": {
        "id": "0hdSnwSTc7QF"
      },
      "source": [
        "학습목표"
      ]
    },
    {
      "cell_type": "code",
      "metadata": {
        "id": "vlRmRirxcfac"
      },
      "source": [
        "1.python 언어에서 변수의 의미를 이해하기\n",
        "2. 기본 데이터 타입을 선언하기 (int, float, str, bool)"
      ],
      "execution_count": null,
      "outputs": []
    },
    {
      "cell_type": "markdown",
      "metadata": {
        "id": "75tBmAi5feW_"
      },
      "source": [
        "### **= 대입연산자**\n",
        "* 대입의 경우, 오른쪽의 수식이나 값을 계산한 뒤, \n",
        "왼쪽으로 변수에 값을 대입\n",
        "* 변수는 해당 값을 가지게 된다."
      ]
    },
    {
      "cell_type": "code",
      "metadata": {
        "id": "UVwnqcmndVdJ"
      },
      "source": [
        "a = 10 #int\n",
        "b = 11.4 #float"
      ],
      "execution_count": null,
      "outputs": []
    },
    {
      "cell_type": "code",
      "metadata": {
        "colab": {
          "base_uri": "https://localhost:8080/"
        },
        "id": "fqEenEMOdjWg",
        "outputId": "bc72a519-0632-452a-b689-081b8d0d26b4"
      },
      "source": [
        "print(a)"
      ],
      "execution_count": null,
      "outputs": [
        {
          "output_type": "stream",
          "text": [
            "10\n"
          ],
          "name": "stdout"
        }
      ]
    },
    {
      "cell_type": "markdown",
      "metadata": {
        "id": "sRQVZeUofUne"
      },
      "source": [
        "## **주석(Comment) **\n",
        "* 코드에서 $으로 시작하는 두시부분은 실행 안함\n",
        "* python이 실행할 때 #만나면 무시\n",
        "*개발자(사람)이 보기 위한 용도로 사용"
      ]
    },
    {
      "cell_type": "code",
      "metadata": {
        "id": "7nPsuDO1fVUp"
      },
      "source": [
        "#this line is important\n",
        "#so don't delete those lines \n",
        "\n",
        "math = 11 \n",
        "english = 57.8"
      ],
      "execution_count": null,
      "outputs": []
    },
    {
      "cell_type": "markdown",
      "metadata": {
        "id": "dwcfO8yWcedf"
      },
      "source": [
        "### **print 함수**\n",
        "* 함수란 특정 기능을 반복적으로 호출하여 사용가능한 코드블럭\n",
        "* 해당 변수 값이 출력 \n",
        "* ,로 여러 변수를 나열하면 한주레 출력\n",
        "* 기본적으로는 한칸 띄어쓰기 후 출\n"
      ]
    },
    {
      "cell_type": "code",
      "metadata": {
        "id": "Z5WTOaIbhfJm"
      },
      "source": [
        ""
      ],
      "execution_count": null,
      "outputs": []
    },
    {
      "cell_type": "markdown",
      "metadata": {
        "id": "JcVx7flPh5qA"
      },
      "source": [
        "### **변수 값 확인 방법**\n",
        "1. print() 함수 사용\n",
        "2. 변수 값을 코드의 마지막에 위치 시킨 후 실행\n",
        " - 이 경우 output으로 변수의 값이 출력된다."
      ]
    },
    {
      "cell_type": "code",
      "metadata": {
        "colab": {
          "base_uri": "https://localhost:8080/"
        },
        "id": "9PaUya35iL-L",
        "outputId": "9d6fcb17-2b5e-49c5-a2aa-a677bd0f97db"
      },
      "source": [
        "math \n",
        "english"
      ],
      "execution_count": null,
      "outputs": [
        {
          "output_type": "execute_result",
          "data": {
            "text/plain": [
              "57.8"
            ]
          },
          "metadata": {},
          "execution_count": 12
        }
      ]
    },
    {
      "cell_type": "code",
      "metadata": {
        "colab": {
          "base_uri": "https://localhost:8080/"
        },
        "id": "6dbMykUvib1o",
        "outputId": "2d8899f4-c9fe-4607-f144-74b5844cdb37"
      },
      "source": [
        "english \n",
        "math"
      ],
      "execution_count": null,
      "outputs": [
        {
          "output_type": "execute_result",
          "data": {
            "text/plain": [
              "11"
            ]
          },
          "metadata": {},
          "execution_count": 13
        }
      ]
    },
    {
      "cell_type": "markdown",
      "metadata": {
        "id": "SZh28SA6jQme"
      },
      "source": [
        "### **변수 이름 규칙**\n",
        "\n",
        "* 숫자로 시작하는 이름을 제외하고 양문 대소문자, _, 숫자로 구성 가능\n",
        " - 숫자로 시작은 안된다!\n",
        "* 일반적으로 변수를 표현할 때 정확하고 간결한 이름을 사용하여 쉽게 이해하도록 설정한다.\n",
        " - 예) a = 900 경우보다, hy_student_num = 900 으로 명시하는 것이 이해가 빠르다."
      ]
    },
    {
      "cell_type": "code",
      "metadata": {
        "id": "c6lVjJcakO8a"
      },
      "source": [
        "abAB = 100\n",
        "#4_num = 10 #숫자로 시작하여 실행안됨\n",
        "ABab = 200\n",
        "_right = 800"
      ],
      "execution_count": null,
      "outputs": []
    },
    {
      "cell_type": "markdown",
      "metadata": {
        "id": "-AmGAOMLlSqG"
      },
      "source": [
        "### ** 예약어(키워드)**\n",
        "* python에서 미리 선점하여 사용중인 키워드\n",
        "* 변수, 함수, 클래스 등 사용자 정의 이름으로 사용할 수 없음\n"
      ]
    },
    {
      "cell_type": "code",
      "metadata": {
        "colab": {
          "base_uri": "https://localhost:8080/"
        },
        "id": "CWU770q1lnO0",
        "outputId": "c0f50478-77dc-4f5c-adcd-0e754a1e10e4"
      },
      "source": [
        "#for = 10 # for은 예약어로 변수 사용 불가\n",
        "_for = 10\n",
        "_for"
      ],
      "execution_count": null,
      "outputs": [
        {
          "output_type": "execute_result",
          "data": {
            "text/plain": [
              "10"
            ]
          },
          "metadata": {},
          "execution_count": 21
        }
      ]
    }
  ]
}