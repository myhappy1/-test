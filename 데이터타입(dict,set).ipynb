{
  "nbformat": 4,
  "nbformat_minor": 0,
  "metadata": {
    "colab": {
      "name": "데이터타입(dict,set).ipynb",
      "provenance": [],
      "authorship_tag": "ABX9TyMWX63QI873tXAnz5jrIV2V",
      "include_colab_link": true
    },
    "kernelspec": {
      "name": "python3",
      "display_name": "Python 3"
    },
    "language_info": {
      "name": "python"
    }
  },
  "cells": [
    {
      "cell_type": "markdown",
      "metadata": {
        "id": "view-in-github",
        "colab_type": "text"
      },
      "source": [
        "<a href=\"https://colab.research.google.com/github/myhappy1/-test/blob/main/%EB%8D%B0%EC%9D%B4%ED%84%B0%ED%83%80%EC%9E%85(dict%2Cset).ipynb\" target=\"_parent\"><img src=\"https://colab.research.google.com/assets/colab-badge.svg\" alt=\"Open In Colab\"/></a>"
      ]
    },
    {
      "cell_type": "markdown",
      "metadata": {
        "id": "wwtL5NWUtiux"
      },
      "source": [
        "# **학습목표**\n",
        "- dictionary, set에 대해 이해하기"
      ]
    },
    {
      "cell_type": "markdown",
      "metadata": {
        "id": "XX8OahNxt9qI"
      },
      "source": [
        "**Dictionary**\n",
        "- 키와 값을 갖는 데이터 구조 \n",
        "- 키는 내부적으로 hash 값으로 저장\n",
        "- 순서를 따지지 않음."
      ]
    },
    {
      "cell_type": "code",
      "metadata": {
        "colab": {
          "base_uri": "https://localhost:8080/"
        },
        "id": "27DnoLT-u0O4",
        "outputId": "779f9a78-0eef-4850-94f0-f2421cd78efa"
      },
      "source": [
        "a = {'Korea' : 'Seoul',\n",
        "     'Canada': 'Ottawa',\n",
        "     'USA': 'Washington D.C'}\n",
        "b = {0:1, 1:6, 7:9, 8:10}\n",
        "\n",
        "print(a)\n",
        "print(a['Korea'])\n",
        "#print(a[\"japan\"])\n",
        "\n",
        "print(b[1])\n",
        "print(b[0])"
      ],
      "execution_count": null,
      "outputs": [
        {
          "output_type": "stream",
          "name": "stdout",
          "text": [
            "{'Korea': 'Seoul', 'Canada': 'Ottawa', 'USA': 'Washington D.C'}\n",
            "Seoul\n",
            "6\n",
            "1\n"
          ]
        }
      ]
    },
    {
      "cell_type": "markdown",
      "metadata": {
        "id": "I_-GSCHkwCcJ"
      },
      "source": [
        "**항목 추가 및 변경**\n",
        "- 기존에 키가 존재하면, 새로운 값으로 업데이트 \n",
        "- 기존에 키가 없다면, 새로운 키값으로 생성"
      ]
    },
    {
      "cell_type": "code",
      "metadata": {
        "colab": {
          "base_uri": "https://localhost:8080/"
        },
        "id": "Y1khB9_ZvjAB",
        "outputId": "94f72002-dae7-498d-a742-58ab2bcb0b7c"
      },
      "source": [
        "a['japan'] = 'Tokyo'\n",
        "print(a)\n",
        "a['japan'] = 'Osaka'\n",
        "print(a)\n",
        "a['China'] = 'Beijng'\n",
        "print(a)\n"
      ],
      "execution_count": null,
      "outputs": [
        {
          "output_type": "stream",
          "name": "stdout",
          "text": [
            "{'Korea': 'Seoul', 'Canada': 'Ottawa', 'USA': 'Washington D.C', 'japan': 'Tokyo'}\n",
            "{'Korea': 'Seoul', 'Canada': 'Ottawa', 'USA': 'Washington D.C', 'japan': 'Osaka'}\n",
            "{'Korea': 'Seoul', 'Canada': 'Ottawa', 'USA': 'Washington D.C', 'japan': 'Osaka', 'China': 'Beijng'}\n"
          ]
        }
      ]
    },
    {
      "cell_type": "markdown",
      "metadata": {
        "id": "nXi4aAbyxA3i"
      },
      "source": [
        "- updata()\n",
        " - 두 딕셔너리를 병합\n",
        " - 겹치는 키가 있다면, 전달되는 값이 업데이트된다."
      ]
    },
    {
      "cell_type": "code",
      "metadata": {
        "colab": {
          "base_uri": "https://localhost:8080/"
        },
        "id": "JOexyq3XvMbA",
        "outputId": "3069304f-50b8-4587-99ed-5925dd1c2fa2"
      },
      "source": [
        "a = {'a':'apple', 'b' :'banana', 'c' : 'car'}\n",
        "b = {\"b\": \"bus\", 'c':'caramel', \"d\":\"dynamite\", 'e':'education'}\n",
        "\n",
        "print(a)\n",
        "a.update(b) # a와 b병합\n",
        "print(a) "
      ],
      "execution_count": null,
      "outputs": [
        {
          "output_type": "stream",
          "name": "stdout",
          "text": [
            "{'a': 'apple', 'b': 'bus', 'c': 'caramel', 'd': 'dynamite', 'e': 'education'}\n"
          ]
        }
      ]
    },
    {
      "cell_type": "markdown",
      "metadata": {
        "id": "M1lmtDtJ5bY_"
      },
      "source": [
        "**key삭제**\n",
        "- del 키워드\n",
        "- pop 함수 이용"
      ]
    },
    {
      "cell_type": "code",
      "metadata": {
        "colab": {
          "base_uri": "https://localhost:8080/"
        },
        "id": "NHALPGBGx8G-",
        "outputId": "a496609d-955c-4f8a-fd19-d07a60ea51fe"
      },
      "source": [
        "a= {'a':1, 'b':2, 'c': 3 }\n",
        "print(a)\n",
        "\n",
        "del a['a']\n",
        "print(a)\n",
        "\n",
        "c= a.pop('b')\n",
        "print(c)\n"
      ],
      "execution_count": null,
      "outputs": [
        {
          "output_type": "stream",
          "name": "stdout",
          "text": [
            "{'a': 1, 'b': 2, 'c': 3}\n",
            "{'b': 2, 'c': 3}\n",
            "2\n"
          ]
        }
      ]
    },
    {
      "cell_type": "markdown",
      "metadata": {
        "id": "dbmEgzGt9ZPF"
      },
      "source": [
        "**clear()**\n",
        "- 딕셔너리 값을 모두 초기화"
      ]
    },
    {
      "cell_type": "code",
      "metadata": {
        "colab": {
          "base_uri": "https://localhost:8080/"
        },
        "id": "tnDwob0t5mws",
        "outputId": "5f305de4-6257-48d0-8db6-e6662528096c"
      },
      "source": [
        "a= {'a':1, 'b':2, 'c':3}\n",
        "a['add'] = 4\n",
        "print(a)\n",
        "a.clear()\n",
        "print(a)\n"
      ],
      "execution_count": null,
      "outputs": [
        {
          "output_type": "stream",
          "name": "stdout",
          "text": [
            "{'a': 1, 'b': 2, 'c': 3, 'add': 4}\n",
            "{}\n"
          ]
        }
      ]
    },
    {
      "cell_type": "markdown",
      "metadata": {
        "id": "LibXcJ3U9sA7"
      },
      "source": [
        "**in**\n",
        "- key값의 존재를 확인"
      ]
    },
    {
      "cell_type": "code",
      "metadata": {
        "colab": {
          "base_uri": "https://localhost:8080/"
        },
        "id": "mJGfMcZo9xcs",
        "outputId": "5f074a4c-6e6b-4683-ad66-9ac0899410c1"
      },
      "source": [
        "a= {'a':1, 'b':2, 'c':3}\n",
        "print(2 in a)\n",
        "print('a' in a)\n"
      ],
      "execution_count": null,
      "outputs": [
        {
          "output_type": "stream",
          "name": "stdout",
          "text": [
            "False\n",
            "True\n"
          ]
        }
      ]
    },
    {
      "cell_type": "markdown",
      "metadata": {
        "id": "HsjAa7ft-UEN"
      },
      "source": [
        "- dict [key]로 접근, 키가 존재하지 않을 경우 \n",
        "에러\n",
        "- .get()함수로 접근해서 키가 없는 경우에도 프로그램을 실행 - > None"
      ]
    },
    {
      "cell_type": "code",
      "metadata": {
        "colab": {
          "base_uri": "https://localhost:8080/"
        },
        "id": "EvPbdBxE-PdA",
        "outputId": "9b13fcf6-c43e-439f-9f31-0fab1172d870"
      },
      "source": [
        "a= {'a':1, 'b':2, 'c':3}\n",
        "print(a['a'])\n",
        "print(a.get('d'))"
      ],
      "execution_count": null,
      "outputs": [
        {
          "output_type": "stream",
          "name": "stdout",
          "text": [
            "1\n",
            "None\n"
          ]
        }
      ]
    },
    {
      "cell_type": "markdown",
      "metadata": {
        "id": "EVU3lT-i_C9N"
      },
      "source": [
        "**모든 key와 값에 접근**\n",
        "\n",
        "- key() : 키만 반환\n",
        "- values() : 값만 반환\n",
        "- items() : 키와 값의 튜플을 반환"
      ]
    },
    {
      "cell_type": "code",
      "metadata": {
        "colab": {
          "base_uri": "https://localhost:8080/"
        },
        "id": "FL2TOqpG9-Uy",
        "outputId": "73cbbafc-fead-417b-d268-0cc6f6c4c59f"
      },
      "source": [
        "a= {'a':1, 'b':2, 'c':3}\n",
        "print(a)\n",
        "print(list(a.keys()))\n",
        "print(list(a.values()))\n",
        "print(list(a.items()))"
      ],
      "execution_count": 40,
      "outputs": [
        {
          "output_type": "stream",
          "name": "stdout",
          "text": [
            "{'a': 1, 'b': 2, 'c': 3}\n",
            "['a', 'b', 'c']\n",
            "[1, 2, 3]\n",
            "[('a', 1), ('b', 2), ('c', 3)]\n"
          ]
        }
      ]
    },
    {
      "cell_type": "markdown",
      "metadata": {
        "id": "20QuN05qGFPy"
      },
      "source": [
        "### **Set**\n",
        "- dictionary에서 key만 활용한 데이터구조\n",
        "- 중복이 허용되지 않는 구조"
      ]
    },
    {
      "cell_type": "code",
      "metadata": {
        "id": "w7nc-71P_SNa",
        "colab": {
          "base_uri": "https://localhost:8080/"
        },
        "outputId": "b9703db7-6ebb-4661-f93c-71544fa82fc3"
      },
      "source": [
        "a = {5,2,3,2,6,4,1,2,3,3}\n",
        "print(a)"
      ],
      "execution_count": 42,
      "outputs": [
        {
          "output_type": "stream",
          "name": "stdout",
          "text": [
            "{1, 2, 3, 4, 5, 6}\n"
          ]
        }
      ]
    },
    {
      "cell_type": "code",
      "metadata": {
        "colab": {
          "base_uri": "https://localhost:8080/"
        },
        "id": "miurpWAVGfmY",
        "outputId": "e58ba665-7913-4c8c-b426-5fde669ced54"
      },
      "source": [
        "#리스트를 Set으로 변경 \n",
        "a = [5,2,3,2,6,4,1,2,3,3]\n",
        "print(a)\n",
        "\n",
        "b = set(a)\n",
        "print(b)"
      ],
      "execution_count": 47,
      "outputs": [
        {
          "output_type": "stream",
          "name": "stdout",
          "text": [
            "[5, 2, 3, 2, 6, 4, 1, 2, 3, 3]\n",
            "{1, 2, 3, 4, 5, 6}\n"
          ]
        }
      ]
    },
    {
      "cell_type": "code",
      "metadata": {
        "colab": {
          "base_uri": "https://localhost:8080/"
        },
        "id": "Ho1LvmR6GtCf",
        "outputId": "d1db8edc-49e9-4533-a7db-5b0b273b24cb"
      },
      "source": [
        "a= {1,2,3}\n",
        "b = {2,3,4}\n",
        "\n",
        "c = a.union #합집합\n",
        "print(c)\n",
        "d = a.intersection(b) #교집합\n",
        "print(d)\n",
        "e = a.difference(b)# A-B 차집합\n",
        "print(e)"
      ],
      "execution_count": 50,
      "outputs": [
        {
          "output_type": "stream",
          "name": "stdout",
          "text": [
            "<built-in method union of set object at 0x7fdfa6951aa0>\n",
            "{2, 3}\n",
            "{1}\n"
          ]
        }
      ]
    },
    {
      "cell_type": "code",
      "metadata": {
        "id": "nAU6Ym8MHnig"
      },
      "source": [
        ""
      ],
      "execution_count": null,
      "outputs": []
    }
  ]
}