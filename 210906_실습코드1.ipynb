{
  "nbformat": 4,
  "nbformat_minor": 0,
  "metadata": {
    "colab": {
      "name": "210906_실습코드1.ipynb",
      "provenance": [],
      "authorship_tag": "ABX9TyPfh7sAoq0ml1NUjK3J6N6/",
      "include_colab_link": true
    },
    "kernelspec": {
      "name": "python3",
      "display_name": "Python 3"
    },
    "language_info": {
      "name": "python"
    }
  },
  "cells": [
    {
      "cell_type": "markdown",
      "metadata": {
        "id": "view-in-github",
        "colab_type": "text"
      },
      "source": [
        "<a href=\"https://colab.research.google.com/github/myhappy1/-test/blob/main/210906_%EC%8B%A4%EC%8A%B5%EC%BD%94%EB%93%9C1.ipynb\" target=\"_parent\"><img src=\"https://colab.research.google.com/assets/colab-badge.svg\" alt=\"Open In Colab\"/></a>"
      ]
    },
    {
      "cell_type": "code",
      "metadata": {
        "id": "pEkVyd-V2CYU"
      },
      "source": [
        ""
      ],
      "execution_count": null,
      "outputs": []
    },
    {
      "cell_type": "code",
      "metadata": {
        "colab": {
          "base_uri": "https://localhost:8080/"
        },
        "id": "8HT5QlmQaDYY",
        "outputId": "209678f3-7bd6-4afb-d04a-d2a8ea25b36f"
      },
      "source": [
        "#Hello World!를 출력하시오.\n",
        "print(\"Hello World!\")"
      ],
      "execution_count": null,
      "outputs": [
        {
          "output_type": "stream",
          "name": "stdout",
          "text": [
            "Hello World!\n"
          ]
        }
      ]
    },
    {
      "cell_type": "code",
      "metadata": {
        "id": "WYfmUbsVaMWH",
        "colab": {
          "base_uri": "https://localhost:8080/"
        },
        "outputId": "44927ab4-1ebb-499c-b59e-a7fb6ec3fdf9"
      },
      "source": [
        "# 2. 두 정수 A와 B를 입력받은 다음.\n",
        "# A+B를 출력하는 프로그램을 작성하시오.\n",
        "A,B = input().split()\n",
        "A = int(A)\n",
        "B = int(B)\n",
        "print(A+B)"
      ],
      "execution_count": 3,
      "outputs": [
        {
          "output_type": "stream",
          "name": "stdout",
          "text": [
            "1 2\n",
            "3\n"
          ]
        }
      ]
    },
    {
      "cell_type": "code",
      "metadata": {
        "colab": {
          "base_uri": "https://localhost:8080/"
        },
        "id": "tmeqsHSrc0oP",
        "outputId": "f2d7966b-f266-4689-cd11-ac31b34404d2"
      },
      "source": [
        "# 3.두 자연수 A와 B가 주어진다. 이때, A+B, A-B, A*B, A/B(몫), A%B(나머지)를 출력하는 프로그램을 작성하시오. \n",
        "a, b = input().split()\n",
        "\n",
        "a = int(a)\n",
        "b = int(b)\n",
        "\n",
        "print(a+b)\n",
        "print(a-b)\n",
        "print(a*b)\n",
        "print(a//b)\n",
        "print(a%b)"
      ],
      "execution_count": null,
      "outputs": [
        {
          "output_type": "stream",
          "name": "stdout",
          "text": [
            "1 2\n",
            "3\n",
            "-1\n",
            "2\n",
            "0\n",
            "1\n"
          ]
        }
      ]
    },
    {
      "cell_type": "code",
      "metadata": {
        "colab": {
          "base_uri": "https://localhost:8080/"
        },
        "id": "jrBHX0TmfOH-",
        "outputId": "ad62b821-5f10-4234-9581-27854dcbf9b9"
      },
      "source": [
        "# 4. (BOJ 9498) **if문**\n",
        "#시험 점수를 입력받아\n",
        "# 90 ~ 100점은 A, 80 ~ 89점은 B, \n",
        "#70 ~ 79점은 C, 60 ~ 69점은 D, \n",
        "#나머지 점수는 F를 출력하는 프로그램을 작성하시오.\n",
        "\n",
        "score = int(input())\n",
        "\n",
        "if score >= 90: \n",
        "  print(\"A\")\n",
        "elif score >= 80:\n",
        "  print(\"B\")\n",
        "elif score >= 70:\n",
        "  print(\"C\")\n",
        "elif score >= 60:\n",
        "  print(\"D\")\n",
        "else:\n",
        "  print(\"F\")\n",
        "  \n",
        "\n"
      ],
      "execution_count": null,
      "outputs": [
        {
          "output_type": "stream",
          "name": "stdout",
          "text": [
            "90\n",
            "A\n"
          ]
        }
      ]
    },
    {
      "cell_type": "code",
      "metadata": {
        "colab": {
          "base_uri": "https://localhost:8080/"
        },
        "id": "U2t3Mm3vnpwr",
        "outputId": "dc739348-2ce8-476f-dae5-9ff424ddc5c6"
      },
      "source": [
        "a, b = input().split()\n",
        "\n",
        "a = int(a)\n",
        "b = int(b)\n",
        "\n",
        "if a>b : \n",
        "  print(\">\")\n",
        "elif a<b: \n",
        "  print(\"<\")\n",
        "else :\n",
        "   print(\"==\")"
      ],
      "execution_count": 4,
      "outputs": [
        {
          "output_type": "stream",
          "name": "stdout",
          "text": [
            "1 2\n",
            "<\n"
          ]
        }
      ]
    }
  ]
}