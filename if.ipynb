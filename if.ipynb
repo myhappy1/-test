{
  "nbformat": 4,
  "nbformat_minor": 0,
  "metadata": {
    "colab": {
      "name": "Untitled3.ipynb",
      "provenance": [],
      "authorship_tag": "ABX9TyO0rN9xSH8jveqIVCdJM5Sp",
      "include_colab_link": true
    },
    "kernelspec": {
      "name": "python3",
      "display_name": "Python 3"
    },
    "language_info": {
      "name": "python"
    }
  },
  "cells": [
    {
      "cell_type": "markdown",
      "metadata": {
        "id": "view-in-github",
        "colab_type": "text"
      },
      "source": [
        "<a href=\"https://colab.research.google.com/github/myhappy1/-test/blob/main/if.ipynb\" target=\"_parent\"><img src=\"https://colab.research.google.com/assets/colab-badge.svg\" alt=\"Open In Colab\"/></a>"
      ]
    },
    {
      "cell_type": "code",
      "metadata": {
        "id": "4BPedw8BTJcG"
      },
      "source": [
        "  "
      ],
      "execution_count": null,
      "outputs": []
    },
    {
      "cell_type": "markdown",
      "metadata": {
        "id": "9ntyM59weGd5"
      },
      "source": [
        "## 학습목표\n",
        "* 조건문 이해 및 활용"
      ]
    },
    {
      "cell_type": "markdown",
      "metadata": {
        "id": "EaN97c45eQIx"
      },
      "source": [
        "###**조건문** (if)\n",
        "\n",
        "- 특정 조건을 만족하는 경우에 수행할 작업이 있는 경우 사용 \n",
        "- 참, 거짓 으로 표현된다.\n",
        "- if, elif, else 키워드 사용 \n",
        "- 조건문의 경우, 들여쓰기로 하나의 블록을 만들고, 여러 종속된 코드로 사용해서 중첩 코드가 가능.\n",
        "\n",
        "- `블록` : 들여쓰기 된 코드\n",
        "- 모든 블록의 시작과 마지막에는 :(콜론:colron)이 필"
      ]
    },
    {
      "cell_type": "code",
      "metadata": {
        "colab": {
          "base_uri": "https://localhost:8080/"
        },
        "id": "KbseEjkmgwGU",
        "outputId": "3cffddab-3d6d-4254-f900-6245f374515c"
      },
      "source": [
        "if 10>20: #거짓\n",
        "  print(\"참입니다.\") \n",
        "print(\"거짓입니다.\")"
      ],
      "execution_count": 1,
      "outputs": [
        {
          "output_type": "stream",
          "text": [
            "거짓입니다.\n"
          ],
          "name": "stdout"
        }
      ]
    },
    {
      "cell_type": "markdown",
      "metadata": {
        "id": "hcDyDzqRjCpr"
      },
      "source": [
        "### **if, else**\n",
        "\n",
        "- if가 아닌 경우, 나머지 조건을 조건을 표현하고 싶을 때\n",
        "- if 조건이 참 (true)인 경우, if 블로안의 코드가 수행\n",
        " * 거짓(False)인 경우 else 블록의 코드가 수행 \n",
        "- `주의`if와 else의 사이에는 다른 코드가 삽입 불가"
      ]
    },
    {
      "cell_type": "code",
      "metadata": {
        "colab": {
          "base_uri": "https://localhost:8080/"
        },
        "id": "QSrXQaWonTJX",
        "outputId": "b6860ec7-3170-4bee-8622-62a5912e3e2a"
      },
      "source": [
        "#짝수인 경우 \"짝수!\"을 출력 , 홀수인 경우 \"홀수!\"을 출력하는 프로그램을 작성하시오\n",
        "\n",
        "a = 4\n",
        "\n",
        "if a % 2 == 0: #나머지가 0인경우(참)\n",
        "  print(\"짝수\")\n",
        "else:\n",
        "  print(\"홀수\")\n"
      ],
      "execution_count": 6,
      "outputs": [
        {
          "output_type": "stream",
          "text": [
            "짝수\n"
          ],
          "name": "stdout"
        }
      ]
    },
    {
      "cell_type": "markdown",
      "metadata": {
        "id": "RBgeLFFrsStx"
      },
      "source": [
        "### **if, *elif*, else**\n",
        "\n",
        "- 조건에 여러개인 경우 , elif으로 처리 가능\n",
        "- elif의 조건을 확인 후,ture인 조건의 코드 블록을 실행"
      ]
    },
    {
      "cell_type": "code",
      "metadata": {
        "colab": {
          "base_uri": "https://localhost:8080/"
        },
        "id": "mV2m984DtEH3",
        "outputId": "625d341f-6b6a-4e1f-c473-5496311a6cf4"
      },
      "source": [
        "score = 100\n",
        "\n",
        "if score == 100 :\n",
        "  print(\"치킨먹는 날\")\n",
        "elif score >= 90 :\n",
        "  print(\"성적 A\")\n",
        "elif score >= 80 :\n",
        "  print(\"성적 B\")\n",
        "elif score >= 70:\n",
        "  print(\"성적 C\")\n",
        "elif score >= 60 :\n",
        "  print(\"성적 D\")\n",
        "else :\n",
        "  print(\"성적 F\")\n",
        "print(\"수고하셨습니다.\")"
      ],
      "execution_count": 13,
      "outputs": [
        {
          "output_type": "stream",
          "text": [
            "치킨먹는 날\n",
            "수고하셨습니다.\n"
          ],
          "name": "stdout"
        }
      ]
    },
    {
      "cell_type": "code",
      "metadata": {
        "id": "IlrLl7EQuL5c"
      },
      "source": [
        ""
      ],
      "execution_count": null,
      "outputs": []
    },
    {
      "cell_type": "code",
      "metadata": {
        "id": "vfqqKAHfuI38"
      },
      "source": [
        ""
      ],
      "execution_count": null,
      "outputs": []
    },
    {
      "cell_type": "code",
      "metadata": {
        "id": "RJ45s5tSuHMe"
      },
      "source": [
        ""
      ],
      "execution_count": null,
      "outputs": []
    },
    {
      "cell_type": "code",
      "metadata": {
        "id": "XzRfN1I1t20D"
      },
      "source": [
        ""
      ],
      "execution_count": null,
      "outputs": []
    },
    {
      "cell_type": "code",
      "metadata": {
        "id": "lu9zHfyRtyue"
      },
      "source": [
        ""
      ],
      "execution_count": null,
      "outputs": []
    },
    {
      "cell_type": "code",
      "metadata": {
        "id": "9ZCyoZ6Dtwed"
      },
      "source": [
        ""
      ],
      "execution_count": null,
      "outputs": []
    },
    {
      "cell_type": "code",
      "metadata": {
        "id": "VwuZ7pQZtoEs"
      },
      "source": [
        ""
      ],
      "execution_count": null,
      "outputs": []
    },
    {
      "cell_type": "code",
      "metadata": {
        "id": "socjh7NungMm"
      },
      "source": [
        ""
      ],
      "execution_count": null,
      "outputs": []
    },
    {
      "cell_type": "code",
      "metadata": {
        "id": "RxkLSLk6ndfV"
      },
      "source": [
        ""
      ],
      "execution_count": null,
      "outputs": []
    },
    {
      "cell_type": "code",
      "metadata": {
        "id": "aedhDo4tnY8o"
      },
      "source": [
        ""
      ],
      "execution_count": null,
      "outputs": []
    },
    {
      "cell_type": "code",
      "metadata": {
        "id": "OJuszkWnnVHP"
      },
      "source": [
        ""
      ],
      "execution_count": null,
      "outputs": []
    },
    {
      "cell_type": "code",
      "metadata": {
        "id": "8s1PKAEUeRRw"
      },
      "source": [
        ""
      ],
      "execution_count": null,
      "outputs": []
    }
  ]
}