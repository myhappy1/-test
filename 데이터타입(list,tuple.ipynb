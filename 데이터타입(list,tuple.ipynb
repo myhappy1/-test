{
  "nbformat": 4,
  "nbformat_minor": 0,
  "metadata": {
    "colab": {
      "name": "데이터타입(list,tuple.ipynb",
      "provenance": [],
      "authorship_tag": "ABX9TyMJXPHAH5lkb3VltpbvmMjN",
      "include_colab_link": true
    },
    "kernelspec": {
      "name": "python3",
      "display_name": "Python 3"
    },
    "language_info": {
      "name": "python"
    }
  },
  "cells": [
    {
      "cell_type": "markdown",
      "metadata": {
        "id": "view-in-github",
        "colab_type": "text"
      },
      "source": [
        "<a href=\"https://colab.research.google.com/github/myhappy1/-test/blob/main/%EB%8D%B0%EC%9D%B4%ED%84%B0%ED%83%80%EC%9E%85(list%2Ctuple.ipynb\" target=\"_parent\"><img src=\"https://colab.research.google.com/assets/colab-badge.svg\" alt=\"Open In Colab\"/></a>"
      ]
    },
    {
      "cell_type": "markdown",
      "metadata": {
        "id": "LoZQJDhyaDxX"
      },
      "source": [
        "## **학습목표**\n",
        "- 리스트(list)에 대해 이해하기\n",
        "- 튜플(tuple)에 대해 이해하"
      ]
    },
    {
      "cell_type": "markdown",
      "metadata": {
        "id": "RxD6MgKHbLWd"
      },
      "source": [
        "### **리스트(list)와 튜플**\n",
        "- 여러 개의 값을 담을 수 있는 데이터 구조 \n",
        "- list: 생성된 후에 변경이 가능\n",
        "- tuple: 생성된 후에 변경이 불가"
      ]
    },
    {
      "cell_type": "code",
      "metadata": {
        "colab": {
          "base_uri": "https://localhost:8080/"
        },
        "id": "_tngZJDPbhO8",
        "outputId": "ae49974d-322e-4209-ec58-a702cc620c95"
      },
      "source": [
        "#[]: 리스트, ():튜플, {}딕셔너리\n",
        "a = [1,2,3,4,5]\n",
        "print(a)"
      ],
      "execution_count": null,
      "outputs": [
        {
          "output_type": "stream",
          "name": "stdout",
          "text": [
            "[1, 2, 3, 4, 5]\n"
          ]
        }
      ]
    },
    {
      "cell_type": "code",
      "metadata": {
        "colab": {
          "base_uri": "https://localhost:8080/"
        },
        "id": "peyFkEK3ceBN",
        "outputId": "1a549379-016f-40c6-815e-594902760db1"
      },
      "source": [
        "a = [ '컴네', 'B', 2, '학년', [10,20]]\n",
        "print(a)"
      ],
      "execution_count": null,
      "outputs": [
        {
          "output_type": "stream",
          "name": "stdout",
          "text": [
            "['컴네', 'B', 2, '학년', [10, 20]]\n"
          ]
        }
      ]
    },
    {
      "cell_type": "code",
      "metadata": {
        "colab": {
          "base_uri": "https://localhost:8080/"
        },
        "id": "_L4tDpMMdIcL",
        "outputId": "ff57ad43-c5ec-4c0b-a7be-f0d52de716d4"
      },
      "source": [
        "a = \"Hello Comnet B!\"\n",
        "b = list(a) # list()함수로 리스트를 생성\n",
        "#리스트 함수는 다른타입(문자열 등)을 리스트로 변환할 때 사용\n",
        "\n",
        "print(b)\n",
        "print(len(b))\n",
        "\n",
        "c = a.split()#공백을 기준으로 리스트를 생성\n",
        "d = a.split('l') #()안의 구분자를 기준으로 리스트를 생성\n",
        "print(c)\n",
        "print(d)"
      ],
      "execution_count": null,
      "outputs": [
        {
          "output_type": "stream",
          "name": "stdout",
          "text": [
            "['H', 'e', 'l', 'l', 'o', ' ', 'C', 'o', 'm', 'n', 'e', 't', ' ', 'B', '!']\n",
            "15\n",
            "['Hello', 'Comnet', 'B!']\n",
            "['He', '', 'o Comnet B!']\n"
          ]
        }
      ]
    },
    {
      "cell_type": "markdown",
      "metadata": {
        "id": "JnjQcXwXk8IU"
      },
      "source": [
        "### **리스트 인덱싱(indexing**\n",
        "\n",
        "- [ ]: 연산자를 이용해서 항목을 가져온다.\n",
        "- [i]: i번째 원소를 반환한다. \n",
        "- 만약  i 가 음수면 마지막 원소에서 -1로 하여 가져온다."
      ]
    },
    {
      "cell_type": "code",
      "metadata": {
        "colab": {
          "base_uri": "https://localhost:8080/"
        },
        "id": "uGlFYE2ClRES",
        "outputId": "746375b3-1bcc-42c9-ccaf-dd02632a5cd1"
      },
      "source": [
        "a = [1,2,3,4,5,6,7,8,9,10]\n",
        "print(a[0], a[3], a[7], a[9])\n",
        "print(a[-1], a[-3], a[-10])\n",
        "#print(a[10], a[-11])"
      ],
      "execution_count": null,
      "outputs": [
        {
          "output_type": "stream",
          "name": "stdout",
          "text": [
            "1 4 8 10\n",
            "10 8 1\n"
          ]
        }
      ]
    },
    {
      "cell_type": "code",
      "metadata": {
        "colab": {
          "base_uri": "https://localhost:8080/"
        },
        "id": "8r-JjIIGmsay",
        "outputId": "bf9322bc-6e9a-4d40-eaca-3d4fdf8f3046"
      },
      "source": [
        "#리스트의 인덱스를 이용해 업데이트\n",
        "a = [1,2,3,4,5,6,7,8,9,10]\n",
        "a[0] = 100\n",
        "a[-1] = 0\n",
        "print(a)\n",
        "\n",
        "# 문자열을 인덱스를 사용해 업데이트\n",
        "a = \"hello comnet B!\"\n",
        "b = a.replace('l','w')\n",
        "print(b)\n",
        "c = 'j'+a[1:]\n",
        "print(c)"
      ],
      "execution_count": null,
      "outputs": [
        {
          "output_type": "stream",
          "name": "stdout",
          "text": [
            "[100, 2, 3, 4, 5, 6, 7, 8, 9, 0]\n",
            "hewwo comnet B!\n",
            "jello comnet B!\n"
          ]
        }
      ]
    },
    {
      "cell_type": "markdown",
      "metadata": {
        "id": "AgjQOX0KoKw7"
      },
      "source": [
        "### **리스트 slicing**\n",
        "- 리스트를 슬라이싱한 결과도 역시 리스트\n",
        "- 슬라이싱[시작:끝:증가값]"
      ]
    },
    {
      "cell_type": "code",
      "metadata": {
        "colab": {
          "base_uri": "https://localhost:8080/"
        },
        "id": "Pdj7B_hXooER",
        "outputId": "cb460534-d7ae-40c0-f2ea-ddbdfe9edde3"
      },
      "source": [
        "a = [1,2,3,4,5,6,7,8,9,10]\n",
        "print(a[3:7])\n",
        "print(a[:7])\n",
        "print(a[3:])\n",
        "print(a[ : ])\n",
        "print(a[ :: 2 ])\n",
        "print(a[ 1:9 : 2 ])"
      ],
      "execution_count": null,
      "outputs": [
        {
          "output_type": "stream",
          "name": "stdout",
          "text": [
            "[4, 5, 6, 7]\n",
            "[1, 2, 3, 4, 5, 6, 7]\n",
            "[4, 5, 6, 7, 8, 9, 10]\n",
            "[1, 2, 3, 4, 5, 6, 7, 8, 9, 10]\n",
            "[1, 3, 5, 7, 9]\n",
            "[2, 4, 6, 8]\n"
          ]
        }
      ]
    },
    {
      "cell_type": "markdown",
      "metadata": {
        "id": "V6DC_MSZq5Am"
      },
      "source": [
        "### **리스트 멤버 함수**\n",
        "- 생성된 리스트에 동작하는 함수\n",
        "- append() : 리스트 끝에다가 항목을 추가\n",
        "- extend() : 리스트를 연장(+=)\n",
        "- insert() : 원하는 위치에 추가 가능 (위치, 아이템)"
      ]
    },
    {
      "cell_type": "code",
      "metadata": {
        "colab": {
          "base_uri": "https://localhost:8080/"
        },
        "id": "ewb5a1D-aQAk",
        "outputId": "5599ed2f-2e93-439e-db74-c88be228e89c"
      },
      "source": [
        "a = [1,2,3,4,5]\n",
        "a.append(10)\n",
        "print(a)\n"
      ],
      "execution_count": null,
      "outputs": [
        {
          "output_type": "stream",
          "name": "stdout",
          "text": [
            "[1, 2, 3, 4, 5, 10]\n"
          ]
        }
      ]
    },
    {
      "cell_type": "code",
      "metadata": {
        "colab": {
          "base_uri": "https://localhost:8080/"
        },
        "id": "2A1DjSegrtXj",
        "outputId": "f0df350a-9f6e-49d3-c35f-d2af67329827"
      },
      "source": [
        "b = [11,12,13]\n",
        "#a.extend(b)\n",
        "a += b #extend 동작\n",
        "print(a)"
      ],
      "execution_count": null,
      "outputs": [
        {
          "output_type": "stream",
          "name": "stdout",
          "text": [
            "[1, 2, 3, 4, 5, 10, 11, 12, 13, 11, 12, 13]\n"
          ]
        }
      ]
    },
    {
      "cell_type": "code",
      "metadata": {
        "colab": {
          "base_uri": "https://localhost:8080/"
        },
        "id": "ikM-rJHKsLx0",
        "outputId": "5f5944eb-66fb-4e6c-f987-298add8b4fe1"
      },
      "source": [
        "a = [1,2,3,4,5]\n",
        "a.insert(0, 7)\n",
        "a.insert(1,6)\n",
        "print(a)"
      ],
      "execution_count": null,
      "outputs": [
        {
          "output_type": "stream",
          "name": "stdout",
          "text": [
            "[7, 6, 1, 2, 3, 4, 5]\n"
          ]
        }
      ]
    },
    {
      "cell_type": "markdown",
      "metadata": {
        "id": "SVJ_paWCyjt7"
      },
      "source": [
        "- remove() : 값으로 항목을 삭제\n",
        "- pop() : 지우고자 하는 인덱스의 아이템을 반환 후 삭제 \n",
        "- index() : 찾고자하는 값의 인덱스 값을 반"
      ]
    },
    {
      "cell_type": "code",
      "metadata": {
        "colab": {
          "base_uri": "https://localhost:8080/"
        },
        "id": "sjjS4Jv6syHi",
        "outputId": "8dc7506b-fa04-4352-bb86-5021543f8bec"
      },
      "source": [
        "a = [10,20,30,40,50]\n",
        "a.remove(10)\n",
        "print(a)\n"
      ],
      "execution_count": null,
      "outputs": [
        {
          "output_type": "stream",
          "name": "stdout",
          "text": [
            "[20, 30, 40, 50]\n"
          ]
        }
      ]
    },
    {
      "cell_type": "code",
      "metadata": {
        "colab": {
          "base_uri": "https://localhost:8080/"
        },
        "id": "-3S4FPO7yzdr",
        "outputId": "902513c1-cbd5-46ac-de0b-0423fd79a29f"
      },
      "source": [
        "a = [10,20,30,40,50]\n",
        "b= a.pop(0)\n",
        "print(b)\n",
        "print(a)"
      ],
      "execution_count": null,
      "outputs": [
        {
          "output_type": "stream",
          "name": "stdout",
          "text": [
            "10\n",
            "[20, 30, 40, 50]\n"
          ]
        }
      ]
    },
    {
      "cell_type": "code",
      "metadata": {
        "colab": {
          "base_uri": "https://localhost:8080/"
        },
        "id": "jm6pdxpgzYPA",
        "outputId": "236da001-df15-40ef-edf6-971438db77cb"
      },
      "source": [
        "a = [10,20,30,40,50]\n",
        "print(a.index(40))\n",
        "\n",
        "b = \"Hello!\"\n",
        "print(b.index(\"l\"))\n"
      ],
      "execution_count": null,
      "outputs": [
        {
          "output_type": "stream",
          "name": "stdout",
          "text": [
            "3\n",
            "2\n"
          ]
        }
      ]
    },
    {
      "cell_type": "markdown",
      "metadata": {
        "id": "HbNLfVF70dMr"
      },
      "source": [
        "### **in 키워드**\n",
        "- 리스트에 해당 값이 존재하는지\n",
        "- True, False 중 한가지로 반환\n",
        "- 값 in [list]"
      ]
    },
    {
      "cell_type": "code",
      "metadata": {
        "colab": {
          "base_uri": "https://localhost:8080/"
        },
        "id": "_RCBiTNP0vqI",
        "outputId": "eaa57f25-4318-44b2-e1da-3be3d1d76abf"
      },
      "source": [
        "a = [1,2,3,4,5,6,7,8]\n",
        "b = 5\n",
        "c = 10\n",
        "print(b in a )\n",
        "print(c in a )"
      ],
      "execution_count": null,
      "outputs": [
        {
          "output_type": "stream",
          "name": "stdout",
          "text": [
            "True\n",
            "False\n"
          ]
        }
      ]
    },
    {
      "cell_type": "markdown",
      "metadata": {
        "id": "afFgjOKG1xMT"
      },
      "source": [
        "# **list 정렬**\n",
        "- sort(): 리스트 자체를 내부적으로 정렬\n",
        "- sorted() : 정렬된 리스트의 복사본을 저"
      ]
    },
    {
      "cell_type": "code",
      "metadata": {
        "colab": {
          "base_uri": "https://localhost:8080/"
        },
        "id": "f-WQ0QAJ17HB",
        "outputId": "65f1b6dd-a478-41a1-879d-fadd9fa18f25"
      },
      "source": [
        "a= [9,34,45,232,12,1,2,8,5,2,1,3,4]\n",
        "b = sorted(a)\n",
        "\n",
        "print(b)\n",
        "print(a)\n",
        "\n",
        "#a.sort()\n",
        "#a.sort(reverse=True)\n",
        "#print(a)\n",
        "#print(b)"
      ],
      "execution_count": null,
      "outputs": [
        {
          "output_type": "stream",
          "name": "stdout",
          "text": [
            "[1, 1, 2, 2, 3, 4, 5, 8, 9, 12, 34, 45, 232]\n",
            "[9, 34, 45, 232, 12, 1, 2, 8, 5, 2, 1, 3, 4]\n"
          ]
        }
      ]
    },
    {
      "cell_type": "markdown",
      "metadata": {
        "id": "zmjsh7-73I-i"
      },
      "source": [
        "# **튜플(Tuple)**\n",
        "- 리스트와 같이 여러개의 값을 갖는 데이터 컬렉션 타입\n",
        "- 생성된 후에 변경이 불가"
      ]
    },
    {
      "cell_type": "code",
      "metadata": {
        "colab": {
          "base_uri": "https://localhost:8080/"
        },
        "id": "RJY0pqGX1Oyq",
        "outputId": "1ce2f79e-fed0-4c0c-ae47-14bac59e5854"
      },
      "source": [
        "a = [1,2,3]\n",
        "b = (1,2,3)\n",
        "\n",
        "print(type(a))\n",
        "print(type(b))\n",
        "\n",
        "a[0] = 100\n",
        "print(a)\n",
        "#b[0] = 100"
      ],
      "execution_count": null,
      "outputs": [
        {
          "output_type": "stream",
          "name": "stdout",
          "text": [
            "<class 'list'>\n",
            "<class 'tuple'>\n",
            "[100, 2, 3]\n"
          ]
        }
      ]
    },
    {
      "cell_type": "code",
      "metadata": {
        "colab": {
          "base_uri": "https://localhost:8080/"
        },
        "id": "J4FxmAB_354Q",
        "outputId": "a4d309f8-b669-4e9f-971b-066678f49057"
      },
      "source": [
        "a,b,c,d = 10, 20, 30, 40\n",
        "print(a,b,c,d)"
      ],
      "execution_count": null,
      "outputs": [
        {
          "output_type": "stream",
          "name": "stdout",
          "text": [
            "10 20 30 40\n"
          ]
        }
      ]
    },
    {
      "cell_type": "code",
      "metadata": {
        "colab": {
          "base_uri": "https://localhost:8080/"
        },
        "id": "4-w_osis3_Sw",
        "outputId": "ac5d30ee-f976-45aa-9d91-edc943513184"
      },
      "source": [
        "a = 5\n",
        "b = 4\n",
        "\n",
        "temp = b\n",
        "b = a\n",
        "a = temp\n",
        "\n",
        "print(a,b)\n",
        "#문제! a, b 값을 교환하시오!\n",
        "\n",
        "#a,b = b,a"
      ],
      "execution_count": 82,
      "outputs": [
        {
          "output_type": "stream",
          "name": "stdout",
          "text": [
            "4 5\n"
          ]
        }
      ]
    },
    {
      "cell_type": "code",
      "metadata": {
        "id": "GnfbUbLa6Wgv"
      },
      "source": [
        ""
      ],
      "execution_count": null,
      "outputs": []
    },
    {
      "cell_type": "code",
      "metadata": {
        "id": "iGsvmN2V6Sfz"
      },
      "source": [
        ""
      ],
      "execution_count": null,
      "outputs": []
    },
    {
      "cell_type": "code",
      "metadata": {
        "id": "moGazP_q6F4h"
      },
      "source": [
        ""
      ],
      "execution_count": null,
      "outputs": []
    },
    {
      "cell_type": "code",
      "metadata": {
        "id": "6ciIVy7D6Ep3"
      },
      "source": [
        ""
      ],
      "execution_count": null,
      "outputs": []
    },
    {
      "cell_type": "code",
      "metadata": {
        "id": "d8H85ywE6C84"
      },
      "source": [
        ""
      ],
      "execution_count": null,
      "outputs": []
    },
    {
      "cell_type": "code",
      "metadata": {
        "id": "81LxB5GE5pIo"
      },
      "source": [
        ""
      ],
      "execution_count": null,
      "outputs": []
    },
    {
      "cell_type": "code",
      "metadata": {
        "id": "dGzuHo-o5lRw"
      },
      "source": [
        ""
      ],
      "execution_count": null,
      "outputs": []
    },
    {
      "cell_type": "code",
      "metadata": {
        "id": "15UAVWdG5fDX"
      },
      "source": [
        ""
      ],
      "execution_count": null,
      "outputs": []
    },
    {
      "cell_type": "code",
      "metadata": {
        "id": "kOdyqYrb5ePf"
      },
      "source": [
        ""
      ],
      "execution_count": null,
      "outputs": []
    },
    {
      "cell_type": "code",
      "metadata": {
        "id": "ouVythYW5Xrv"
      },
      "source": [
        ""
      ],
      "execution_count": null,
      "outputs": []
    },
    {
      "cell_type": "code",
      "metadata": {
        "id": "YfItwQPK5UNB"
      },
      "source": [
        "\n"
      ],
      "execution_count": null,
      "outputs": []
    },
    {
      "cell_type": "code",
      "metadata": {
        "id": "qsU7yFaZ4SSX"
      },
      "source": [
        ""
      ],
      "execution_count": null,
      "outputs": []
    },
    {
      "cell_type": "code",
      "metadata": {
        "id": "L-DeX4il3cXI"
      },
      "source": [
        ""
      ],
      "execution_count": null,
      "outputs": []
    },
    {
      "cell_type": "code",
      "metadata": {
        "id": "9AFdsyfmrOzL"
      },
      "source": [
        ""
      ],
      "execution_count": null,
      "outputs": []
    }
  ]
}