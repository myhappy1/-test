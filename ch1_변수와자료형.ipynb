{
  "nbformat": 4,
  "nbformat_minor": 0,
  "metadata": {
    "colab": {
      "name": "Untitled1.ipynb",
      "provenance": [],
      "authorship_tag": "ABX9TyMqLcxQiuP7ccCvyMqTVjW6",
      "include_colab_link": true
    },
    "kernelspec": {
      "name": "python3",
      "display_name": "Python 3"
    },
    "language_info": {
      "name": "python"
    }
  },
  "cells": [
    {
      "cell_type": "markdown",
      "metadata": {
        "id": "view-in-github",
        "colab_type": "text"
      },
      "source": [
        "<a href=\"https://colab.research.google.com/github/myhappy1/-test/blob/main/ch1_%EB%B3%80%EC%88%98%EC%99%80%EC%9E%90%EB%A3%8C%ED%98%95.ipynb\" target=\"_parent\"><img src=\"https://colab.research.google.com/assets/colab-badge.svg\" alt=\"Open In Colab\"/></a>"
      ]
    },
    {
      "cell_type": "markdown",
      "metadata": {
        "id": "0hdSnwSTc7QF"
      },
      "source": [
        "학습목표"
      ]
    },
    {
      "cell_type": "code",
      "metadata": {
        "id": "vlRmRirxcfac"
      },
      "source": [
        "1.python 언어에서 변수의 의미를 이해하기\n",
        "2. 기본 데이터 타입을 선언하기 (int, float, str, bool)"
      ],
      "execution_count": null,
      "outputs": []
    },
    {
      "cell_type": "markdown",
      "metadata": {
        "id": "42nGWap0kqN1"
      },
      "source": [
        ""
      ]
    },
    {
      "cell_type": "markdown",
      "metadata": {
        "id": "75tBmAi5feW_"
      },
      "source": [
        "### **= 대입연산자**\n",
        "* 대입의 경우, 오른쪽의 수식이나 값을 계산한 뒤, \n",
        "왼쪽으로 변수에 값을 대입\n",
        "* 변수는 해당 값을 가지게 된다."
      ]
    },
    {
      "cell_type": "code",
      "metadata": {
        "id": "UVwnqcmndVdJ"
      },
      "source": [
        "a = 10 #int\n",
        "b = 11.4 #float"
      ],
      "execution_count": null,
      "outputs": []
    },
    {
      "cell_type": "code",
      "metadata": {
        "colab": {
          "base_uri": "https://localhost:8080/"
        },
        "id": "fqEenEMOdjWg",
        "outputId": "bc72a519-0632-452a-b689-081b8d0d26b4"
      },
      "source": [
        "print(a)"
      ],
      "execution_count": null,
      "outputs": [
        {
          "output_type": "stream",
          "text": [
            "10\n"
          ],
          "name": "stdout"
        }
      ]
    },
    {
      "cell_type": "markdown",
      "metadata": {
        "id": "sRQVZeUofUne"
      },
      "source": [
        "## **주석(Comment) **\n",
        "* 코드에서 $으로 시작하는 두시부분은 실행 안함\n",
        "* python이 실행할 때 #만나면 무시\n",
        "*개발자(사람)이 보기 위한 용도로 사용"
      ]
    },
    {
      "cell_type": "code",
      "metadata": {
        "id": "7nPsuDO1fVUp"
      },
      "source": [
        "#this line is important\n",
        "#so don't delete those lines \n",
        "\n",
        "math = 11 \n",
        "english = 57.8"
      ],
      "execution_count": null,
      "outputs": []
    },
    {
      "cell_type": "markdown",
      "metadata": {
        "id": "dwcfO8yWcedf"
      },
      "source": [
        "### **print 함수**\n",
        "* 함수란 특정 기능을 반복적으로 호출하여 사용가능한 코드블럭\n",
        "* 해당 변수 값이 출력 \n",
        "* ,로 여러 변수를 나열하면 한주레 출력\n",
        "* 기본적으로는 한칸 띄어쓰기 후 출\n"
      ]
    },
    {
      "cell_type": "code",
      "metadata": {
        "id": "Z5WTOaIbhfJm"
      },
      "source": [
        ""
      ],
      "execution_count": null,
      "outputs": []
    },
    {
      "cell_type": "markdown",
      "metadata": {
        "id": "JcVx7flPh5qA"
      },
      "source": [
        "### **변수 값 확인 방법**\n",
        "1. print() 함수 사용\n",
        "2. 변수 값을 코드의 마지막에 위치 시킨 후 실행\n",
        " - 이 경우 output으로 변수의 값이 출력된다."
      ]
    },
    {
      "cell_type": "code",
      "metadata": {
        "colab": {
          "base_uri": "https://localhost:8080/"
        },
        "id": "9PaUya35iL-L",
        "outputId": "9d6fcb17-2b5e-49c5-a2aa-a677bd0f97db"
      },
      "source": [
        "math \n",
        "english"
      ],
      "execution_count": null,
      "outputs": [
        {
          "output_type": "execute_result",
          "data": {
            "text/plain": [
              "57.8"
            ]
          },
          "metadata": {},
          "execution_count": 12
        }
      ]
    },
    {
      "cell_type": "code",
      "metadata": {
        "colab": {
          "base_uri": "https://localhost:8080/"
        },
        "id": "6dbMykUvib1o",
        "outputId": "2d8899f4-c9fe-4607-f144-74b5844cdb37"
      },
      "source": [
        "english \n",
        "math"
      ],
      "execution_count": null,
      "outputs": [
        {
          "output_type": "execute_result",
          "data": {
            "text/plain": [
              "11"
            ]
          },
          "metadata": {},
          "execution_count": 13
        }
      ]
    },
    {
      "cell_type": "markdown",
      "metadata": {
        "id": "SZh28SA6jQme"
      },
      "source": [
        "### **변수 이름 규칙**\n",
        "\n",
        "* 숫자로 시작하는 이름을 제외하고 양문 대소문자, _, 숫자로 구성 가능\n",
        " - 숫자로 시작은 안된다!\n",
        "* 일반적으로 변수를 표현할 때 정확하고 간결한 이름을 사용하여 쉽게 이해하도록 설정한다.\n",
        " - 예) a = 900 경우보다, hy_student_num = 900 으로 명시하는 것이 이해가 빠르다."
      ]
    },
    {
      "cell_type": "code",
      "metadata": {
        "id": "c6lVjJcakO8a"
      },
      "source": [
        "abAB = 100\n",
        "#4_num = 10 #숫자로 시작하여 실행안됨\n",
        "ABab = 200\n",
        "_right = 800"
      ],
      "execution_count": null,
      "outputs": []
    },
    {
      "cell_type": "markdown",
      "metadata": {
        "id": "-AmGAOMLlSqG"
      },
      "source": [
        "### ** 예약어(키워드)**\n",
        "* python에서 미리 선점하여 사용중인 키워드\n",
        "* 변수, 함수, 클래스 등 사용자 정의 이름으로 사용할 수 없음\n"
      ]
    },
    {
      "cell_type": "code",
      "metadata": {
        "colab": {
          "base_uri": "https://localhost:8080/"
        },
        "id": "CWU770q1lnO0",
        "outputId": "c0f50478-77dc-4f5c-adcd-0e754a1e10e4"
      },
      "source": [
        "#for = 10 # for은 예약어로 변수 사용 불가\n",
        "_for = 10\n",
        "_for"
      ],
      "execution_count": null,
      "outputs": [
        {
          "output_type": "execute_result",
          "data": {
            "text/plain": [
              "10"
            ]
          },
          "metadata": {},
          "execution_count": 21
        }
      ]
    },
    {
      "cell_type": "markdown",
      "metadata": {
        "id": "pNoC7WKMnck-"
      },
      "source": [
        "### **기본 데이터 타입 **\n",
        "* 정수(int)\n",
        "* 실수(float)\n",
        "* 문자열(str)\n",
        "* 불리언(boolean)"
      ]
    },
    {
      "cell_type": "code",
      "metadata": {
        "colab": {
          "base_uri": "https://localhost:8080/"
        },
        "id": "IuQz9qSToQAp",
        "outputId": "2441ef51-dca8-49d3-dad8-753bf2d2d11e"
      },
      "source": [
        "a = 10 #정수형(int)\n",
        "b = 15.6 #실수형(float)\n",
        "c = \"2학기 회장은 세준이\" #문자형(str)\n",
        "d = a > b #불리언(boolean)\n",
        "\n",
        "print(a,b,c,d)"
      ],
      "execution_count": 1,
      "outputs": [
        {
          "output_type": "stream",
          "text": [
            "10 15.6 2학기 회장은 세준이 False\n"
          ],
          "name": "stdout"
        }
      ]
    },
    {
      "cell_type": "markdown",
      "metadata": {
        "id": "Jqkrgjhvo9BR"
      },
      "source": [
        "### type() 함수 \n",
        " 해당 변수, 값의 타입(type)을 알고자할 때 사용하는 함수"
      ]
    },
    {
      "cell_type": "code",
      "metadata": {
        "colab": {
          "base_uri": "https://localhost:8080/"
        },
        "id": "eFyIp-FlpMw_",
        "outputId": "fe9b0321-4be3-441b-8ba2-5be59b2284fd"
      },
      "source": [
        "print(type(a), type(b), type(c), type(d))"
      ],
      "execution_count": 2,
      "outputs": [
        {
          "output_type": "stream",
          "text": [
            "<class 'int'> <class 'float'> <class 'str'> <class 'bool'>\n"
          ],
          "name": "stdout"
        }
      ]
    },
    {
      "cell_type": "markdown",
      "metadata": {
        "id": "6QeHHjuhpkjJ"
      },
      "source": [
        "### **타입 None**\n",
        "\n",
        "* 아무런 값을 갖지 않을 때 사용\n",
        "* 일반적으로 변수가 초깃값을 갖지 않게 하여 해당 변수를 생성할 때 사용\n",
        "* 다른 언어에서는 NULL과 같은 의미로 사용"
      ]
    },
    {
      "cell_type": "code",
      "metadata": {
        "colab": {
          "base_uri": "https://localhost:8080/"
        },
        "id": "xAEk605lqUq2",
        "outputId": "ee6563e7-0aa7-46f8-fffe-3d52f8c34bd6"
      },
      "source": [
        "null = None\n",
        "print(null)"
      ],
      "execution_count": 4,
      "outputs": [
        {
          "output_type": "stream",
          "text": [
            "None\n"
          ],
          "name": "stdout"
        }
      ]
    },
    {
      "cell_type": "markdown",
      "metadata": {
        "id": "UkTZCd0_uqj_"
      },
      "source": [
        "### **비교 연산자**\n",
        "- 프로그래밍에서는 '='이게 아니라, ==를 사용\n",
        "- 예) 2학기 회장 == 상록 #잠\n",
        "- 작다, 크다 (>,<) \n",
        "- 작거나 같다, 크거나 같다(=>, <=)\n",
        "- 같다 (==)\n",
        "- 같지 않다(!=)\n",
        " - 예) 2학기 회장 != #거짓\n",
        "- 결론적으로 비교 연산자 결과는 bool 타입으로 출력"
      ]
    },
    {
      "cell_type": "code",
      "metadata": {
        "colab": {
          "base_uri": "https://localhost:8080/"
        },
        "id": "aq6gqLoxvZfN",
        "outputId": "baf881a3-12ed-477e-cb2e-83313d3e0680"
      },
      "source": [
        "ss = 76100\n",
        "nv = 434000\n",
        "\n",
        "print(ss>nv)\n",
        "print(nv>ss)\n",
        "print(nv<=ss)\n",
        "print(nv>=ss)\n",
        "\n",
        "print(nv==ss)\n",
        "print(nv!=ss)"
      ],
      "execution_count": 7,
      "outputs": [
        {
          "output_type": "stream",
          "text": [
            "False\n",
            "True\n",
            "False\n",
            "True\n",
            "False\n",
            "True\n"
          ],
          "name": "stdout"
        }
      ]
    },
    {
      "cell_type": "markdown",
      "metadata": {
        "id": "h8vUztN2x16d"
      },
      "source": [
        "### **기본 연산자**\n",
        "\n"
      ]
    },
    {
      "cell_type": "code",
      "metadata": {
        "colab": {
          "base_uri": "https://localhost:8080/"
        },
        "id": "ndM0eBeYx5fH",
        "outputId": "7102e30a-f098-46f3-a100-63617f27c0b7"
      },
      "source": [
        "print(ss+nv)\n",
        "print(ss-nv)\n",
        "\n",
        "print(ss*nv)\n",
        "print(ss/nv)\n",
        "\n",
        "print(nv%ss)\n",
        "\n",
        "a= 3 \n",
        "b= 2\n",
        "\n",
        "print(a ** b)"
      ],
      "execution_count": 9,
      "outputs": [
        {
          "output_type": "stream",
          "text": [
            "510100\n",
            "-357900\n",
            "33027400000\n",
            "0.17534562211981566\n",
            "53500\n",
            "9\n"
          ],
          "name": "stdout"
        }
      ]
    },
    {
      "cell_type": "markdown",
      "metadata": {
        "id": "KSVCS_h5zHZi"
      },
      "source": [
        "**연산자 우선순위**\n",
        "\n",
        "- 기본적으로 수학의 연산자와 동일\n",
        "- 내가 연산을 위해서 괄호()를 사"
      ]
    },
    {
      "cell_type": "code",
      "metadata": {
        "colab": {
          "base_uri": "https://localhost:8080/"
        },
        "id": "TKlebBjNzSsZ",
        "outputId": "dbc48980-6c22-4a2c-b0f9-0d7d8ddd8f04"
      },
      "source": [
        "a= 5\n",
        "b= 4\n",
        "print(a+b*50)\n",
        "print((a+b)*50)"
      ],
      "execution_count": 11,
      "outputs": [
        {
          "output_type": "stream",
          "text": [
            "205\n",
            "450\n"
          ],
          "name": "stdout"
        }
      ]
    },
    {
      "cell_type": "code",
      "metadata": {
        "id": "xu_tY3A0zjKZ"
      },
      "source": [
        ""
      ],
      "execution_count": null,
      "outputs": []
    },
    {
      "cell_type": "code",
      "metadata": {
        "id": "SXmUp5zIzcHf"
      },
      "source": [
        ""
      ],
      "execution_count": null,
      "outputs": []
    },
    {
      "cell_type": "markdown",
      "metadata": {
        "id": "eGDeNWg7zGMn"
      },
      "source": [
        ""
      ]
    },
    {
      "cell_type": "code",
      "metadata": {
        "id": "ap2sMFbyx8zC"
      },
      "source": [
        ""
      ],
      "execution_count": null,
      "outputs": []
    },
    {
      "cell_type": "code",
      "metadata": {
        "id": "gf80meT3whv9"
      },
      "source": [
        ""
      ],
      "execution_count": null,
      "outputs": []
    }
  ]
}