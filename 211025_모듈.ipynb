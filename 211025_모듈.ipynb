{
  "nbformat": 4,
  "nbformat_minor": 0,
  "metadata": {
    "colab": {
      "name": "211025_모듈.ipynb",
      "provenance": [],
      "collapsed_sections": [],
      "authorship_tag": "ABX9TyMxHyU7U1DMEmgLuw9t9VmK",
      "include_colab_link": true
    },
    "kernelspec": {
      "name": "python3",
      "display_name": "Python 3"
    },
    "language_info": {
      "name": "python"
    }
  },
  "cells": [
    {
      "cell_type": "markdown",
      "metadata": {
        "id": "view-in-github",
        "colab_type": "text"
      },
      "source": [
        "<a href=\"https://colab.research.google.com/github/myhappy1/-test/blob/main/211025_%EB%AA%A8%EB%93%88.ipynb\" target=\"_parent\"><img src=\"https://colab.research.google.com/assets/colab-badge.svg\" alt=\"Open In Colab\"/></a>"
      ]
    },
    {
      "cell_type": "markdown",
      "metadata": {
        "id": "KzWzrq1Y8cGm"
      },
      "source": [
        "### **학습목표**\n",
        "\n",
        "1. 모듈의 이해 및 모듈을 import하기"
      ]
    },
    {
      "cell_type": "markdown",
      "metadata": {
        "id": "b9kryovO89Rs"
      },
      "source": [
        "### **모듈**\n",
        "- 다양한 기능들이 미리 함수로 구현되어 모듈 형태로 제공 "
      ]
    },
    {
      "cell_type": "code",
      "metadata": {
        "id": "ljtq6_Vl9P11",
        "colab": {
          "base_uri": "https://localhost:8080/"
        },
        "outputId": "3cdeac4d-c3b2-47e2-d513-6d0fba49f47f"
      },
      "source": [
        "import math\n",
        "pipi = math.pi\n",
        "fact = math.factorial(5)#5!\n",
        "root = math.sqrt(25)\n",
        "print(pipi)\n",
        "print(fact)\n",
        "print(root)"
      ],
      "execution_count": 2,
      "outputs": [
        {
          "output_type": "stream",
          "name": "stdout",
          "text": [
            "3.141592653589793\n",
            "120\n",
            "5.0\n"
          ]
        }
      ]
    },
    {
      "cell_type": "code",
      "metadata": {
        "colab": {
          "base_uri": "https://localhost:8080/"
        },
        "id": "Jn2hRx0EG2GO",
        "outputId": "74421999-e767-42d2-a692-36e8de03a8e9"
      },
      "source": [
        "import random\n",
        "print(\"주사위값: \", random.randint(1,6))\n",
        "print(\"주사위값: \", random.randrange(7))\n",
        "rps = ['가위', '바위', '보']\n",
        "print(\"가위바위보: \", random.choice(rps))\n",
        "\n",
        "order = [1,2,3,4,5,6,7,8,9]\n",
        "print(random.shuffle(order))"
      ],
      "execution_count": 16,
      "outputs": [
        {
          "output_type": "stream",
          "name": "stdout",
          "text": [
            "주사위값:  1\n",
            "주사위값:  0\n",
            "가위바위보:  가위\n"
          ]
        }
      ]
    },
    {
      "cell_type": "code",
      "metadata": {
        "colab": {
          "base_uri": "https://localhost:8080/"
        },
        "id": "ncdgS27xHBCf",
        "outputId": "5fa542de-a9a7-432c-8229-c619900b673a"
      },
      "source": [
        "from datetime import datetime \n",
        "today = datetime.now()\n",
        "print('today: ', today)\n",
        "print('{}년 {}월 {}일'.format(today.year, today.month, today.day))\n",
        "print('{}시 {}분 {}초'.format(today.hour, today.minute, today.second))\n",
        "print('요일: ', today.weekday())\n",
        "\n",
        "xmas = datetime(2021,12,25,0,0,0)\n",
        "k_sat = datetime(2023,11,9,0,0,0)\n",
        "print('xmas: ', xmas)\n",
        "\n",
        "print('고백까지 남은 디데이: ', today-xmas)\n",
        "print(\"수능까지 남은 디데이: \", today-k_sat)"
      ],
      "execution_count": 31,
      "outputs": [
        {
          "output_type": "stream",
          "name": "stdout",
          "text": [
            "today:  2021-10-25 02:04:56.733134\n",
            "2021년 10월 25일\n",
            "2시 4분 56초\n",
            "요일:  0\n",
            "xmas:  2021-12-25 00:00:00\n",
            "고백까지 남은 디데이:  -61 days, 2:04:56.733134\n",
            "수능까지 남은 디데이:  -745 days, 2:04:56.733134\n"
          ]
        }
      ]
    },
    {
      "cell_type": "code",
      "metadata": {
        "id": "czNKWuV6JVnu"
      },
      "source": [
        ""
      ],
      "execution_count": null,
      "outputs": []
    }
  ]
}