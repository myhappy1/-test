{
  "nbformat": 4,
  "nbformat_minor": 0,
  "metadata": {
    "colab": {
      "name": "211025_모듈.ipynb",
      "provenance": [],
      "collapsed_sections": [],
      "authorship_tag": "ABX9TyNe+/Pl7tl4+kI7qXgDaRHb",
      "include_colab_link": true
    },
    "kernelspec": {
      "name": "python3",
      "display_name": "Python 3"
    },
    "language_info": {
      "name": "python"
    }
  },
  "cells": [
    {
      "cell_type": "markdown",
      "metadata": {
        "id": "view-in-github",
        "colab_type": "text"
      },
      "source": [
        "<a href=\"https://colab.research.google.com/github/myhappy1/-test/blob/main/211025_%EB%AA%A8%EB%93%88.ipynb\" target=\"_parent\"><img src=\"https://colab.research.google.com/assets/colab-badge.svg\" alt=\"Open In Colab\"/></a>"
      ]
    },
    {
      "cell_type": "markdown",
      "metadata": {
        "id": "KzWzrq1Y8cGm"
      },
      "source": [
        "### **학습목표**\n",
        "\n",
        "1. 모듈의 이해 및 모듈을 import하기"
      ]
    },
    {
      "cell_type": "markdown",
      "metadata": {
        "id": "b9kryovO89Rs"
      },
      "source": [
        "### **모듈**\n",
        "- 다양한 기능들이 미리 함수로 구현되어 모듈 형태로 제공 "
      ]
    },
    {
      "cell_type": "code",
      "metadata": {
        "id": "0owUgP6V9FY0"
      },
      "source": [
        "import math\n",
        "pipi = math.pi\n",
        "fact = math.factorial(5)#5!\n",
        "root = math.sqrt(25)\n",
        "print(pipi)\n",
        "print(fact)\n",
        "print(root)"
      ],
      "execution_count": null,
      "outputs": []
    },
    {
      "cell_type": "code",
      "metadata": {
        "id": "ljtq6_Vl9P11"
      },
      "source": [
        ""
      ],
      "execution_count": null,
      "outputs": []
    }
  ]
}