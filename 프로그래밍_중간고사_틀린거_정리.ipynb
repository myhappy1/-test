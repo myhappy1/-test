{
  "nbformat": 4,
  "nbformat_minor": 0,
  "metadata": {
    "colab": {
      "name": "프로그래밍 중간고사 틀린거 정리.ipynb",
      "provenance": [],
      "collapsed_sections": [],
      "authorship_tag": "ABX9TyMCatEbl7ofEWjE/eP18Dso",
      "include_colab_link": true
    },
    "kernelspec": {
      "name": "python3",
      "display_name": "Python 3"
    },
    "language_info": {
      "name": "python"
    }
  },
  "cells": [
    {
      "cell_type": "markdown",
      "metadata": {
        "id": "view-in-github",
        "colab_type": "text"
      },
      "source": [
        "<a href=\"https://colab.research.google.com/github/myhappy1/-test/blob/main/%ED%94%84%EB%A1%9C%EA%B7%B8%EB%9E%98%EB%B0%8D_%EC%A4%91%EA%B0%84%EA%B3%A0%EC%82%AC_%ED%8B%80%EB%A6%B0%EA%B1%B0_%EC%A0%95%EB%A6%AC.ipynb\" target=\"_parent\"><img src=\"https://colab.research.google.com/assets/colab-badge.svg\" alt=\"Open In Colab\"/></a>"
      ]
    },
    {
      "cell_type": "code",
      "metadata": {
        "colab": {
          "base_uri": "https://localhost:8080/"
        },
        "id": "UI-FvtgufrvG",
        "outputId": "2ad91e10-25a3-48d8-d71f-9450855e5e34"
      },
      "source": [
        "#5. 문자열 인덱싱\n",
        "s = \"Hellp Hanyang!\"\n",
        "print(s[5], s[-5])"
      ],
      "execution_count": 1,
      "outputs": [
        {
          "output_type": "stream",
          "name": "stdout",
          "text": [
            "  y\n"
          ]
        }
      ]
    },
    {
      "cell_type": "code",
      "metadata": {
        "id": "a88QQb_Bfs8R"
      },
      "source": [
        "#8. 파이썬 자료형\n",
        "#리스트,튜플,딕셔너리,셋"
      ],
      "execution_count": 2,
      "outputs": []
    },
    {
      "cell_type": "code",
      "metadata": {
        "colab": {
          "base_uri": "https://localhost:8080/"
        },
        "id": "QXD-UhlEf08-",
        "outputId": "c1d3c4d7-c7a2-43f0-cf71-d364810d7c9d"
      },
      "source": [
        "#9. 리스트\n",
        "a = ['a',1,'python',(1,2),'2',[1,2]]\n",
        "print(a[3])\n",
        "print(1 in a, 2 in a)"
      ],
      "execution_count": 3,
      "outputs": [
        {
          "output_type": "stream",
          "name": "stdout",
          "text": [
            "(1, 2)\n",
            "True False\n"
          ]
        }
      ]
    },
    {
      "cell_type": "code",
      "metadata": {
        "colab": {
          "base_uri": "https://localhost:8080/"
        },
        "id": "RqOcmGmOf2OF",
        "outputId": "fbfe2783-a15f-4a1b-e780-1529b3924bce"
      },
      "source": [
        "#10. 파이썬 코드\n",
        "nums = list(range(4))\n",
        "print(nums)\n",
        "nums.insert(3,100)\n",
        "print(nums)"
      ],
      "execution_count": 4,
      "outputs": [
        {
          "output_type": "stream",
          "name": "stdout",
          "text": [
            "[0, 1, 2, 3]\n",
            "[0, 1, 2, 100, 3]\n"
          ]
        }
      ]
    },
    {
      "cell_type": "code",
      "metadata": {
        "colab": {
          "base_uri": "https://localhost:8080/"
        },
        "id": "SvC4utgVf54-",
        "outputId": "a91d1ed2-e8f0-4c0f-c220-38ac3b9f6dd8"
      },
      "source": [
        "#12. 딕셔너리 \n",
        "a = {'han':1, 1:2, '1':3}\n",
        "a[1] = 'yang'\n",
        "print(a)"
      ],
      "execution_count": 5,
      "outputs": [
        {
          "output_type": "stream",
          "name": "stdout",
          "text": [
            "{'han': 1, 1: 'yang', '1': 3}\n"
          ]
        }
      ]
    },
    {
      "cell_type": "code",
      "metadata": {
        "colab": {
          "base_uri": "https://localhost:8080/"
        },
        "id": "Gsi_8SQNf8SH",
        "outputId": "65720edb-c1fd-48dd-ffd6-1145600aadb9"
      },
      "source": [
        "#13. 셋\n",
        "b = set('Hello')\n",
        "print(b)"
      ],
      "execution_count": 6,
      "outputs": [
        {
          "output_type": "stream",
          "name": "stdout",
          "text": [
            "{'H', 'e', 'l', 'o'}\n"
          ]
        }
      ]
    },
    {
      "cell_type": "code",
      "metadata": {
        "colab": {
          "base_uri": "https://localhost:8080/"
        },
        "id": "4ymEnOiEf-hu",
        "outputId": "8d956189-e2e7-4153-9df5-9ec99399f869"
      },
      "source": [
        "#15. \n",
        "room = [[0,0,1,0,9],\n",
        "       [1,0,1,0,1],\n",
        "       [0,1,1,1,9]]\n",
        "mouse = room[0][2]\n",
        "\n",
        "if mouse == 1:\n",
        "  print(\"cheese\")\n",
        "elif mouse == 0:\n",
        "  print(\"trap\")\n",
        "else : \n",
        "  print(nothing)"
      ],
      "execution_count": 7,
      "outputs": [
        {
          "output_type": "stream",
          "name": "stdout",
          "text": [
            "cheese\n"
          ]
        }
      ]
    },
    {
      "cell_type": "code",
      "metadata": {
        "colab": {
          "base_uri": "https://localhost:8080/"
        },
        "id": "rUvnCgUYgAdP",
        "outputId": "5974d176-6177-4cce-f759-5aa114e0073f"
      },
      "source": [
        "#17. \n",
        "a = 0\n",
        "b = 0\n",
        "\n",
        "for i in range(3,9):\n",
        "  if i%2 == 0 and i%3 == 0:\n",
        "    continue\n",
        "  elif i%2 == 0:\n",
        "    a += 1\n",
        "  elif i%3 == 0:\n",
        "    b += 1\n",
        "print(a,b)"
      ],
      "execution_count": 8,
      "outputs": [
        {
          "output_type": "stream",
          "name": "stdout",
          "text": [
            "2 1\n"
          ]
        }
      ]
    },
    {
      "cell_type": "code",
      "metadata": {
        "colab": {
          "base_uri": "https://localhost:8080/"
        },
        "id": "NtQbC6wSgBZu",
        "outputId": "dd7a1529-5a37-49e9-bddc-53eb7bfe7383"
      },
      "source": [
        "#19. \n",
        "print(\"메뉴번호 1.쿠키(300원) 2.짬뽕(500) 3.치킨(700)\")\n",
        "\n",
        "money = int(input(\"투입금액:\"))\n",
        "menu = int(input(\"메뉴번호:\"))\n",
        "\n",
        "if menu == 1:\n",
        "  money -= 300\n",
        "elif menu == 2:\n",
        "  money -= 500\n",
        "elif menu == 3:\n",
        "  money -= 700\n",
        "\n",
        "\n",
        "if money < 0:\n",
        "  print(\"금액이 부족합니다.\")\n",
        "else :\n",
        "  won1000 = money//1000\n",
        "  won500 = (money%1000)//500\n",
        "  won100 = ((money%1000)%500)//100\n",
        "  print(\"거스름돈: 1000원 {}개, 500원 {}개, 100원 {}개\".format(won1000,won500,won100))"
      ],
      "execution_count": 9,
      "outputs": [
        {
          "output_type": "stream",
          "name": "stdout",
          "text": [
            "메뉴번호 1.쿠키(300원) 2.짬뽕(500) 3.치킨(700)\n",
            "투입금액:2\n",
            "메뉴번호:2\n",
            "금액이 부족합니다.\n"
          ]
        }
      ]
    }
  ]
}