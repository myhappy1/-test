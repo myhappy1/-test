{
  "nbformat": 4,
  "nbformat_minor": 0,
  "metadata": {
    "colab": {
      "name": "Untitled1.ipynb",
      "provenance": [],
      "authorship_tag": "ABX9TyOok91Pms5M5cyBO8PXqK2J",
      "include_colab_link": true
    },
    "kernelspec": {
      "name": "python3",
      "display_name": "Python 3"
    },
    "language_info": {
      "name": "python"
    }
  },
  "cells": [
    {
      "cell_type": "markdown",
      "metadata": {
        "id": "view-in-github",
        "colab_type": "text"
      },
      "source": [
        "<a href=\"https://colab.research.google.com/github/myhappy1/-test/blob/main/Ch2_%EB%AC%B8%EC%9E%90%EC%97%B4.ipynb\" target=\"_parent\"><img src=\"https://colab.research.google.com/assets/colab-badge.svg\" alt=\"Open In Colab\"/></a>"
      ]
    },
    {
      "cell_type": "code",
      "metadata": {
        "id": "vD3tS_T79D3S"
      },
      "source": [
        ""
      ],
      "execution_count": null,
      "outputs": []
    },
    {
      "cell_type": "markdown",
      "metadata": {
        "id": "Am6mAH9q9T-9"
      },
      "source": [
        "## 학습목표\n",
        " 1.문자열(str) 타입 이해하기\n"
      ]
    },
    {
      "cell_type": "markdown",
      "metadata": {
        "id": "Spp8or-G9vfj"
      },
      "source": [
        "###**문자열(str)**\n",
        "- 여러 개의 문자를 순서대로 나열한 것\n",
        "- 문자열은 '(작은따옴표)' 혹은 \"\"(큰따옴표) 사이에 문자를 넣어서 생성\n",
        " - ''', \"\"\"(여러번 쓸 경우):\n",
        " 여러 줄에 걸쳐 문자열이 표현 가능\n",
        "- 문자열 자체에 '.\" 있을 경우에는 그 반대의 기호로 생성"
      ]
    },
    {
      "cell_type": "code",
      "metadata": {
        "id": "RxTJwqsbATAp"
      },
      "source": [
        ""
      ],
      "execution_count": null,
      "outputs": []
    },
    {
      "cell_type": "code",
      "metadata": {
        "colab": {
          "base_uri": "https://localhost:8080/"
        },
        "id": "Hei9QGNT-Y7K",
        "outputId": "391607a5-c4de-4d4c-8a85-9942d33ee0c9"
      },
      "source": [
        "a = \"Hello' World!\"\n",
        "b = 'Hello\" World!'\n",
        "\n",
        "c = '''Hello World\n",
        "\n",
        "it is hyesoung'''\n",
        "\n",
        "d= \"\"\"Hellp World\n",
        "\n",
        "it is hyesoung\"\"\"\n",
        "\n",
        "print(a)\n",
        "print(b)\n",
        "print(c)\n",
        "print(d)"
      ],
      "execution_count": 4,
      "outputs": [
        {
          "output_type": "stream",
          "text": [
            "Hello' World!\n",
            "Hello\" World!\n",
            "Hello World\n",
            "\n",
            "it is hyesoung\n",
            "Hellp World\n",
            "\n",
            "it is hyesoung\n"
          ],
          "name": "stdout"
        }
      ]
    },
    {
      "cell_type": "markdown",
      "metadata": {
        "id": "bKyUco3ABAtb"
      },
      "source": [
        "**이스케이프(escape) 문자**\n",
        "\n",
        "* '탈출 효과'를 주기 위해 문자열 내부에 넣는다.\n",
        "* '\\n': 엔터(다음줄)\n",
        "* '\\t':tab"
      ]
    },
    {
      "cell_type": "code",
      "metadata": {
        "colab": {
          "base_uri": "https://localhost:8080/"
        },
        "id": "RQC0XV2aB0RB",
        "outputId": "35bbbd09-7055-4a5a-8cb1-2a59b28064f6"
      },
      "source": [
        "print('hello\\n\\nworld')\n",
        "print('이렇게 엔터를\\n치면 됩니다.')\n",
        "print('2학기 회장:\\t 오상록')\n",
        "print('1학기 회장:\\t 전지설')"
      ],
      "execution_count": 8,
      "outputs": [
        {
          "output_type": "stream",
          "text": [
            "hello\n",
            "\n",
            "world\n",
            "이렇게 엔터를\n",
            "치면 됩니다.\n",
            "2학기 회장:\t 오상록\n",
            "1학기 회장:\t 전지설\n"
          ],
          "name": "stdout"
        }
      ]
    },
    {
      "cell_type": "code",
      "metadata": {
        "id": "ncesoC54ClJa"
      },
      "source": [
        ""
      ],
      "execution_count": null,
      "outputs": []
    },
    {
      "cell_type": "code",
      "metadata": {
        "id": "vNPbT2b5CU4R"
      },
      "source": [
        ""
      ],
      "execution_count": null,
      "outputs": []
    }
  ]
}